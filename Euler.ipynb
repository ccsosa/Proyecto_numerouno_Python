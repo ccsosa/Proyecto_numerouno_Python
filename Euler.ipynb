{
 "cells": [
  {
   "cell_type": "code",
   "execution_count": 37,
   "metadata": {},
   "outputs": [],
   "source": [
    "import numpy as np\n",
    "import matplotlib.pyplot as plt\n"
   ]
  },
  {
   "cell_type": "code",
   "execution_count": 38,
   "metadata": {},
   "outputs": [],
   "source": [
    "#EULER\n",
    "\n",
    "def euler(to,y0,y1,h):\n",
    "    \n",
    "     \n",
    "    y = y0\n",
    "    t=to\n",
    "    intervals = int(y1/h)\n",
    "    x_sol = np.zeros((intervals,2),dtype=float)\n",
    "    print(\"#INTERVALS:\" + str(intervals))\n",
    "    x_sol[0,1] =to\n",
    "    x_sol[1,1] =y0\n",
    "    for i in range(1,intervals,1):#np.arange(0.5,y1+h,h, dtype=float):\n",
    "        print(\"i\"+str(i))\n",
    "        t = float(t+h)\n",
    "        print(\"t:\"+str(t))\n",
    "        y = y *(1+h)\n",
    "        print(\"Y:\"+str(y))\n",
    "        x_sol[i,:] = [t,y]\n",
    "    \n",
    "    return(x_sol)    "
   ]
  },
  {
   "cell_type": "code",
   "execution_count": 39,
   "metadata": {},
   "outputs": [
    {
     "name": "stdout",
     "output_type": "stream",
     "text": [
      "#INTERVALS:10\n",
      "i1\n",
      "t:0.5\n",
      "Y:1.5\n",
      "i2\n",
      "t:1.0\n",
      "Y:2.25\n",
      "i3\n",
      "t:1.5\n",
      "Y:3.375\n",
      "i4\n",
      "t:2.0\n",
      "Y:5.0625\n",
      "i5\n",
      "t:2.5\n",
      "Y:7.59375\n",
      "i6\n",
      "t:3.0\n",
      "Y:11.390625\n",
      "i7\n",
      "t:3.5\n",
      "Y:17.0859375\n",
      "i8\n",
      "t:4.0\n",
      "Y:25.62890625\n",
      "i9\n",
      "t:4.5\n",
      "Y:38.443359375\n"
     ]
    }
   ],
   "source": [
    "X = euler(y0=1,y1=5,h=0.5,to=0)"
   ]
  },
  {
   "cell_type": "code",
   "execution_count": 40,
   "metadata": {},
   "outputs": [
    {
     "data": {
      "text/plain": [
       "[<matplotlib.lines.Line2D at 0x268953c0588>]"
      ]
     },
     "execution_count": 40,
     "metadata": {},
     "output_type": "execute_result"
    },
    {
     "data": {
      "image/png": "[encoded data removed]",
      "text/plain": [
       "<Figure size 432x288 with 1 Axes>"
      ]
     },
     "metadata": {
      "needs_background": "light"
     },
     "output_type": "display_data"
    }
   ],
   "source": [
    "plt.plot(X.T[0],X.T[1],label='linear')"
   ]
  },
  {
   "cell_type": "code",
   "execution_count": null,
   "metadata": {},
   "outputs": [],
   "source": []
  },
  {
   "cell_type": "code",
   "execution_count": 11,
   "metadata": {},
   "outputs": [
    {
     "data": {
      "text/plain": [
       "[1, 1]"
      ]
     },
     "execution_count": 11,
     "metadata": {},
     "output_type": "execute_result"
    }
   ],
   "source": []
  },
  {
   "cell_type": "code",
   "execution_count": 30,
   "metadata": {},
   "outputs": [
    {
     "name": "stdout",
     "output_type": "stream",
     "text": [
      "1\n",
      "2\n",
      "3\n",
      "4\n",
      "5\n",
      "6\n",
      "7\n",
      "8\n",
      "9\n"
     ]
    }
   ],
   "source": []
  },
  {
   "cell_type": "code",
   "execution_count": null,
   "metadata": {},
   "outputs": [],
   "source": [
    "\n"
   ]
  },
  {
   "cell_type": "code",
   "execution_count": null,
   "metadata": {},
   "outputs": [],
   "source": []
  }
 ],
 "metadata": {
  "kernelspec": {
   "display_name": "Python 3",
   "language": "python",
   "name": "python3"
  },
  "language_info": {
   "codemirror_mode": {
    "name": "ipython",
    "version": 3
   },
   "file_extension": ".py",
   "mimetype": "text/x-python",
   "name": "python",
   "nbconvert_exporter": "python",
   "pygments_lexer": "ipython3",
   "version": "3.7.3"
  }
 },
 "nbformat": 4,
 "nbformat_minor": 2
}
